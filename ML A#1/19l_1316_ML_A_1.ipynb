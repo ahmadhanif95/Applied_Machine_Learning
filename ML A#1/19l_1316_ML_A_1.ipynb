{
  "nbformat": 4,
  "nbformat_minor": 0,
  "metadata": {
    "colab": {
      "provenance": []
    },
    "kernelspec": {
      "name": "python3",
      "display_name": "Python 3"
    },
    "language_info": {
      "name": "python"
    }
  },
  "cells": [
    {
      "cell_type": "code",
      "execution_count": 1,
      "metadata": {
        "colab": {
          "base_uri": "https://localhost:8080/",
          "height": 597
        },
        "id": "bJYl1Fi87fkc",
        "outputId": "997b51ba-b5ab-4d8c-e21e-58b80eb801c6"
      },
      "outputs": [
        {
          "output_type": "stream",
          "name": "stdout",
          "text": [
            "[ 0.04166667  0.04092262 -0.02232143 -0.02306548 -0.08630952 -0.02455357\n",
            " -0.02529762  0.09895833]\n",
            "Theta found by gradient descent: [ 2.33333333 -1.01190476]\n"
          ]
        },
        {
          "output_type": "display_data",
          "data": {
            "text/plain": [
              "<Figure size 432x288 with 1 Axes>"
            ],
            "image/png": "[encoded data removed]"
          },
          "metadata": {
            "needs_background": "light"
          }
        },
        {
          "output_type": "display_data",
          "data": {
            "text/plain": [
              "<Figure size 432x288 with 1 Axes>"
            ],
            "image/png": "[encoded data removed]"
          },
          "metadata": {
            "needs_background": "light"
          }
        }
      ],
      "source": [
        "import numpy as np\n",
        "import matplotlib.pyplot as plt\n",
        "import pandas as pd\n",
        "\n",
        "def gradient_descent(x, y, z,theta, alpha, num_iters):\n",
        "    theta_not = []\n",
        "    theta_one = []\n",
        "    m = len(y)\n",
        "    cost = []\n",
        "    J_history = np.zeros((num_iters, 1))\n",
        "    for i in range(num_iters):\n",
        "        h = np.dot(x, theta)\n",
        "        error = (h - y)*z\n",
        "        gradient = np.dot(x.T, error)\n",
        "        theta = theta - alpha * gradient\n",
        "        J_history[i] = np.sum(error ** 2) / (2)\n",
        "        cost.append(J_history[i])\n",
        "        theta_not.append(theta[0])\n",
        "        theta_one.append(theta[1])\n",
        "    print(error)\n",
        "    return theta, J_history, theta_not, theta_one, cost\n",
        "\n",
        "def predict(x, theta):\n",
        "    return np.dot(x, theta)\n",
        "\n",
        "def main():\n",
        "    x = np.array([[1, 0], [1, 0.5], [1, 1], [1, 1.5], [1, 2], [1, 2.5], [1, 3], [1, 3.5]])\n",
        "    y = np.array([2, 1.5, 1.5, 1, 1, 0, -0.5, -2])\n",
        "    z = np.array([0.125, 0.125, 0.125, 0.125, 0.125, 0.125, 0.125, 0.125])\n",
        "    theta = np.array([0, 0])\n",
        "    alpha = 0.1\n",
        "    num_iters = 10000\n",
        "    theta, J_history, theta0, theta1, cost = gradient_descent(x, y,z, theta, alpha, num_iters)\n",
        "\n",
        "    df = pd.DataFrame({'Theta_0': theta0, 'Theta_1': theta1, 'Cost': cost})\n",
        "\n",
        "    # Write the dataframe into a CSV file\n",
        "    df.to_csv('analysis_gradient_descent.csv', index=False)\n",
        "\n",
        "    print(\"Theta found by gradient descent:\", theta)\n",
        "    # print(f\"Cost values are: {J_history}\")\n",
        "    # print(\"Prediction:\", predict(np.array([[1, 4]]), theta))\n",
        "\n",
        "    # plot the data\n",
        "    plt.figure(1)\n",
        "    plt.scatter(x[:,1], y)\n",
        "    # plot the hypothesis\n",
        "    hypothesis = predict(x, theta)\n",
        "    plt.plot(x[:,1], hypothesis)\n",
        "    plt.xlabel(\"x\")\n",
        "    plt.ylabel(\"y\")\n",
        "\n",
        "    # plot the cost function\n",
        "    plt.figure(2)\n",
        "    plt.plot(np.arange(num_iters), J_history.flatten())\n",
        "    plt.xlabel(\"Iterations\")\n",
        "    plt.ylabel(\"Cost\")\n",
        "    plt.show()\n",
        "\n",
        "if __name__ == '__main__':\n",
        "    main()"
      ]
    },
    {
      "cell_type": "code",
      "source": [
        "import numpy as np\n",
        "import matplotlib.pyplot as plt\n",
        "import pandas as pd\n",
        "\n",
        "def gradient_descent(x, y, z,theta, alpha, num_iters):\n",
        "    theta_not = []\n",
        "    theta_one = []\n",
        "    m = len(y)\n",
        "    cost = []\n",
        "    J_history = np.zeros((num_iters, 1))\n",
        "    for i in range(num_iters):\n",
        "        h = np.dot(x, theta)\n",
        "        error = (h - y)*z\n",
        "        gradient = np.dot(x.T, error)\n",
        "        theta = theta - alpha * gradient\n",
        "        J_history[i] = np.sum(error ** 2) / (2)\n",
        "        cost.append(J_history[i])\n",
        "        theta_not.append(theta[0])\n",
        "        theta_one.append(theta[1])\n",
        "    print(error)\n",
        "    return theta, J_history, theta_not, theta_one, cost\n",
        "\n",
        "def predict(x, theta):\n",
        "    return np.dot(x, theta)\n",
        "\n",
        "def main():\n",
        "    x = np.array([[1, 0], [1, 0.5], [1, 1], [1, 1.5], [1, 2], [1, 2.5], [1, 3], [1, 3.5]])\n",
        "    y = np.array([2, 1.5, 1.5, 1, 1, 0, -0.5, -2])\n",
        "    z = np.array([0.1, 0.1, 0.1, 0.1, 0.1, 0.1, 0.1, 0.3])\n",
        "    theta = np.array([0, 0])\n",
        "    alpha = 0.1\n",
        "    num_iters = 10000\n",
        "    theta, J_history, theta0, theta1, cost = gradient_descent(x, y,z, theta, alpha, num_iters)\n",
        "\n",
        "    df = pd.DataFrame({'Theta_0': theta0, 'Theta_1': theta1, 'Cost': cost})\n",
        "\n",
        "    # Write the dataframe into a CSV file\n",
        "    df.to_csv('analysis_gradient_descent.csv', index=False)\n",
        "\n",
        "    print(\"Theta found by gradient descent:\", theta)\n",
        "    # print(f\"Cost values are: {J_history}\")\n",
        "    # print(\"Prediction:\", predict(np.array([[1, 4]]), theta))\n",
        "\n",
        "    # plot the data\n",
        "    plt.figure(1)\n",
        "    plt.scatter(x[:,1], y)\n",
        "    # plot the hypothesis\n",
        "    hypothesis = predict(x, theta)\n",
        "    plt.plot(x[:,1], hypothesis)\n",
        "    plt.xlabel(\"x\")\n",
        "    plt.ylabel(\"y\")\n",
        "\n",
        "    # plot the cost function\n",
        "    plt.figure(2)\n",
        "    plt.plot(np.arange(num_iters), J_history.flatten())\n",
        "    plt.xlabel(\"Iterations\")\n",
        "    plt.ylabel(\"Cost\")\n",
        "    plt.show()\n",
        "\n",
        "if __name__ == '__main__':\n",
        "    main()"
      ],
      "metadata": {
        "colab": {
          "base_uri": "https://localhost:8080/",
          "height": 593
        },
        "id": "St4O24IT86xW",
        "outputId": "1f262abb-cc7d-4c1a-c1fe-61d730ce2218"
      },
      "execution_count": null,
      "outputs": [
        {
          "output_type": "stream",
          "name": "stdout",
          "text": [
            "[ 0.04772727  0.03993506 -0.01785714 -0.02564935 -0.08344156 -0.04123377\n",
            " -0.04902597  0.12954545]\n",
            "Theta found by gradient descent: [ 2.47727273 -1.15584416]\n"
          ]
        },
        {
          "output_type": "display_data",
          "data": {
            "text/plain": [
              "<Figure size 432x288 with 1 Axes>"
            ],
            "image/png": "[encoded data removed]"
          },
          "metadata": {
            "needs_background": "light"
          }
        },
        {
          "output_type": "display_data",
          "data": {
            "text/plain": [
              "<Figure size 432x288 with 1 Axes>"
            ],
            "image/png": "[encoded data removed]"
          },
          "metadata": {
            "needs_background": "light"
          }
        }
      ]
    },
    {
      "cell_type": "code",
      "source": [
        "import numpy as np\n",
        "import matplotlib.pyplot as plt\n",
        "import pandas as pd\n",
        "\n",
        "def gradient_descent(x, y, theta, alpha, num_iters):\n",
        "    theta_not = []\n",
        "    theta_one = []\n",
        "    m = len(y)\n",
        "    cost = []\n",
        "    J_history = np.zeros((num_iters, 1))\n",
        "    for i in range(num_iters):\n",
        "        h = np.dot(x, theta)\n",
        "        error = h - y\n",
        "        gradient = np.dot(x.T, error) / m\n",
        "        theta = theta - alpha * gradient\n",
        "        J_history[i] = np.sum(error ** 2) / (2 * m)\n",
        "        cost.append(J_history[i])\n",
        "        theta_not.append(theta[0])\n",
        "        theta_one.append(theta[1])\n",
        "    print(error)\n",
        "    return theta, J_history, theta_not, theta_one, cost\n",
        "\n",
        "def predict(x, theta):\n",
        "    return np.dot(x, theta)\n",
        "\n",
        "def main():\n",
        "    x = np.array([[1, 0], [1, 0.5], [1, 1], [1, 1.5], [1, 2], [1, 2.5], [1, 3], [1, 3.5]])\n",
        "    y = np.array([2, 1.5, 1.5, 1, 1, 0, -0.5, -2])\n",
        "    theta = np.array([0, 0])\n",
        "    alpha = 0.1\n",
        "    num_iters = 10000\n",
        "    theta, J_history, theta0, theta1, cost = gradient_descent(x, y, theta, alpha, num_iters)\n",
        "\n",
        "    df = pd.DataFrame({'Theta_0': theta0, 'Theta_1': theta1, 'Cost': cost})\n",
        "\n",
        "    # Write the dataframe into a CSV file\n",
        "    df.to_csv('analysis_gradient_descent.csv', index=False)\n",
        "\n",
        "    print(\"Theta found by gradient descent:\", theta)\n",
        "    # print(f\"Cost values are: {J_history}\")\n",
        "    # print(\"Prediction:\", predict(np.array([[1, 4]]), theta))\n",
        "\n",
        "    # plot the data\n",
        "    plt.figure(1)\n",
        "    plt.scatter(x[:,1], y)\n",
        "    # plot the hypothesis\n",
        "    hypothesis = predict(x, theta)\n",
        "    plt.plot(x[:,1], hypothesis)\n",
        "    plt.xlabel(\"x\")\n",
        "    plt.ylabel(\"y\")\n",
        "\n",
        "    # plot the cost function\n",
        "    plt.figure(2)\n",
        "    plt.plot(np.arange(num_iters), J_history.flatten())\n",
        "    plt.xlabel(\"Iterations\")\n",
        "    plt.ylabel(\"Cost\")\n",
        "    plt.show()\n",
        "\n",
        "if __name__ == '__main__':\n",
        "    main()"
      ],
      "metadata": {
        "colab": {
          "base_uri": "https://localhost:8080/",
          "height": 593
        },
        "id": "xu9GiAkF9aVh",
        "outputId": "7cb4e579-f410-4caf-f948-db1fdc7132fd"
      },
      "execution_count": null,
      "outputs": [
        {
          "output_type": "stream",
          "name": "stdout",
          "text": [
            "[ 0.33333333  0.32738095 -0.17857143 -0.18452381 -0.69047619 -0.19642857\n",
            " -0.20238095  0.79166667]\n",
            "Theta found by gradient descent: [ 2.33333333 -1.01190476]\n"
          ]
        },
        {
          "output_type": "display_data",
          "data": {
            "text/plain": [
              "<Figure size 432x288 with 1 Axes>"
            ],
            "image/png": "[encoded data removed]"
          },
          "metadata": {
            "needs_background": "light"
          }
        },
        {
          "output_type": "display_data",
          "data": {
            "text/plain": [
              "<Figure size 432x288 with 1 Axes>"
            ],
            "image/png": "[encoded data removed]"
          },
          "metadata": {
            "needs_background": "light"
          }
        }
      ]
    },
    {
      "cell_type": "markdown",
      "source": [
        "USING NORMAL EQUATION"
      ],
      "metadata": {
        "id": "iwYok_8u-ohw"
      }
    },
    {
      "cell_type": "code",
      "source": [
        "import numpy as np\n",
        "\n",
        "x = np.array([0,0.5,1,1.5,2,2.5,3,3.5])\n",
        "y = np.array([2,1.5,1.5,1,1,0,-0.5,-2])\n",
        "\n",
        "X = np.c_[np.ones((len(x), 1)), x]\n",
        "theta = np.linalg.inv(X.T @ X) @ X.T @ y\n",
        "\n",
        "print('theta0:', theta[0])\n",
        "print('theta1:', theta[1])\n",
        "   "
      ],
      "metadata": {
        "colab": {
          "base_uri": "https://localhost:8080/"
        },
        "id": "WVr4540D-jWF",
        "outputId": "cf741868-3c63-4fd6-d580-fd6719638f2a"
      },
      "execution_count": null,
      "outputs": [
        {
          "output_type": "stream",
          "name": "stdout",
          "text": [
            "theta0: 2.333333333333333\n",
            "theta1: -1.0119047619047619\n"
          ]
        }
      ]
    }
  ]
}