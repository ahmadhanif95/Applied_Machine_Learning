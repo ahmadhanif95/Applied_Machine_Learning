{
  "nbformat": 4,
  "nbformat_minor": 0,
  "metadata": {
    "colab": {
      "provenance": []
    },
    "kernelspec": {
      "name": "python3",
      "display_name": "Python 3"
    },
    "language_info": {
      "name": "python"
    }
  },
  "cells": [
    {
      "cell_type": "markdown",
      "source": [
        "## Fully Connected Network\n",
        "Add Learning Rate in the code (take help from 1st Notebook)"
      ],
      "metadata": {
        "id": "ld7-qD8-pg4h"
      }
    },
    {
      "cell_type": "code",
      "source": [
        "from tqdm import tqdm"
      ],
      "metadata": {
        "id": "N6ySqGl5pg05"
      },
      "execution_count": 2,
      "outputs": []
    },
    {
      "cell_type": "code",
      "source": [
        "def forward_pass(feature1, feature2, w1, w2, w3, w4, w5, w6):\n",
        "    hidden_1 = (feature1*w1) + (feature2*w2)\n",
        "    hidden_2 = (feature1*w3) + (feature2*w4)\n",
        "    \n",
        "    prediction = (hidden_1*w5) + (hidden_2*w6)\n",
        "    return round(prediction,2)\n",
        "    \n",
        "def calculate_error(actual_output, prediction):\n",
        "    error = actual_output - prediction\n",
        "    return round(error,2)\n",
        "\n",
        "def backward_pass(error, w1, w2, w3, w4, w5, w6):\n",
        "    if error > 0:\n",
        "        w1 = w1 + 0.2\n",
        "        w2 = w2 + 0.2\n",
        "        w3 = w3 + 0.2\n",
        "        w4 = w4 + 0.2\n",
        "        w5 = w5 + 0.2\n",
        "        w6 = w6 + 0.2\n",
        "    elif error < 0:\n",
        "        w1 = w1 - 0.2\n",
        "        w2 = w2 - 0.2\n",
        "        w3 = w3 - 0.2\n",
        "        w4 = w4 - 0.2\n",
        "        w5 = w5 - 0.2\n",
        "        w6 = w6 - 0.2\n",
        "        \n",
        "    return round(w1,2),round(w2,2),round(w3,2),round(w4,2),round(w5,2),round(w6,2)\n"
      ],
      "metadata": {
        "id": "47gf442Epgwa"
      },
      "execution_count": 3,
      "outputs": []
    },
    {
      "cell_type": "code",
      "source": [
        "data = [5, 10]\n",
        "actual_output = 10\n",
        "w1 = 0.02\n",
        "w2 = 0.3\n",
        "w3 = 0.03\n",
        "w4 = 0.2\n",
        "w5 = 0.1\n",
        "w6 = 0.1"
      ],
      "metadata": {
        "id": "EJ0lEqY1pgsx"
      },
      "execution_count": 4,
      "outputs": []
    },
    {
      "cell_type": "code",
      "source": [
        "for i in tqdm(range(10)):\n",
        "    prediction = forward_pass(data[0], data[1], w1, w2, w3, w4, w5, w6)\n",
        "    error = calculate_error(actual_output, prediction)\n",
        "    w1, w2, w3, w4, w5, w6 = backward_pass(error, w1, w2, w3, w4, w5, w6)\n",
        "    print(\"Prediction : \", prediction)\n",
        "    print(\"Error : \", error)\n",
        "    print(\"Updated Weight : \", w1, w2, w3, w4, w5, w6)\n",
        "    print(\"==============================\")"
      ],
      "metadata": {
        "colab": {
          "base_uri": "https://localhost:8080/"
        },
        "id": "85tMRxVtpgo5",
        "outputId": "ae8c7f25-fb9c-4275-c515-24dadcf77f6b"
      },
      "execution_count": 5,
      "outputs": [
        {
          "output_type": "stream",
          "name": "stderr",
          "text": [
            "100%|██████████| 10/10 [00:00<00:00, 4423.90it/s]"
          ]
        },
        {
          "output_type": "stream",
          "name": "stdout",
          "text": [
            "Prediction :  0.53\n",
            "Error :  9.47\n",
            "Updated Weight :  0.22 0.5 0.23 0.4 0.3 0.3\n",
            "==============================\n",
            "Prediction :  3.38\n",
            "Error :  6.62\n",
            "Updated Weight :  0.42 0.7 0.43 0.6 0.5 0.5\n",
            "==============================\n",
            "Prediction :  8.62\n",
            "Error :  1.38\n",
            "Updated Weight :  0.62 0.9 0.63 0.8 0.7 0.7\n",
            "==============================\n",
            "Prediction :  16.27\n",
            "Error :  -6.27\n",
            "Updated Weight :  0.42 0.7 0.43 0.6 0.5 0.5\n",
            "==============================\n",
            "Prediction :  8.62\n",
            "Error :  1.38\n",
            "Updated Weight :  0.62 0.9 0.63 0.8 0.7 0.7\n",
            "==============================\n",
            "Prediction :  16.27\n",
            "Error :  -6.27\n",
            "Updated Weight :  0.42 0.7 0.43 0.6 0.5 0.5\n",
            "==============================\n",
            "Prediction :  8.62\n",
            "Error :  1.38\n",
            "Updated Weight :  0.62 0.9 0.63 0.8 0.7 0.7\n",
            "==============================\n",
            "Prediction :  16.27\n",
            "Error :  -6.27\n",
            "Updated Weight :  0.42 0.7 0.43 0.6 0.5 0.5\n",
            "==============================\n",
            "Prediction :  8.62\n",
            "Error :  1.38\n",
            "Updated Weight :  0.62 0.9 0.63 0.8 0.7 0.7\n",
            "==============================\n",
            "Prediction :  16.27\n",
            "Error :  -6.27\n",
            "Updated Weight :  0.42 0.7 0.43 0.6 0.5 0.5\n",
            "==============================\n"
          ]
        },
        {
          "output_type": "stream",
          "name": "stderr",
          "text": [
            "\n"
          ]
        }
      ]
    },
    {
      "cell_type": "code",
      "source": [
        "import matplotlib.pyplot as plt\n",
        "\n",
        "data = [5, 10]\n",
        "actual_output = 10\n",
        "w1 = 0.02\n",
        "w2 = 0.3\n",
        "w3 = 0.03\n",
        "w4 = 0.2\n",
        "w5 = 0.1\n",
        "w6 = 0.1\n",
        "\n",
        "predictions = []\n",
        "errors = []\n",
        "\n",
        "for i in range(10):\n",
        "    prediction = forward_pass(data[0], data[1], w1, w2, w3, w4, w5, w6)\n",
        "    error = calculate_error(actual_output, prediction)\n",
        "    w1, w2, w3, w4, w5, w6 = backward_pass(error, w1, w2, w3, w4, w5, w6)\n",
        "    predictions.append(prediction)\n",
        "    errors.append(error)\n",
        "\n",
        "plt.plot(range(1,11), predictions, label='Prediction')\n",
        "plt.plot(range(1,11), errors, label='Error')\n",
        "plt.xlabel('Iteration')\n",
        "plt.legend()\n",
        "plt.show()\n"
      ],
      "metadata": {
        "id": "q-RAW6-lpglJ",
        "outputId": "784f6cd8-613a-4b28-dc24-904ee8e95943",
        "colab": {
          "base_uri": "https://localhost:8080/",
          "height": 449
        }
      },
      "execution_count": 6,
      "outputs": [
        {
          "output_type": "display_data",
          "data": {
            "text/plain": [
              "<Figure size 640x480 with 1 Axes>"
            ],
            "image/png": "[encoded data removed]"
          },
          "metadata": {}
        }
      ]
    },
    {
      "cell_type": "code",
      "source": [],
      "metadata": {
        "id": "w9Nyi7zJpghp"
      },
      "execution_count": null,
      "outputs": []
    },
    {
      "cell_type": "code",
      "source": [],
      "metadata": {
        "id": "3MQNXQ_epgd5"
      },
      "execution_count": null,
      "outputs": []
    },
    {
      "cell_type": "code",
      "source": [],
      "metadata": {
        "id": "G8HFfN23pgZ5"
      },
      "execution_count": null,
      "outputs": []
    },
    {
      "cell_type": "code",
      "source": [],
      "metadata": {
        "id": "8rFLakR-pgWh"
      },
      "execution_count": null,
      "outputs": []
    },
    {
      "cell_type": "code",
      "source": [],
      "metadata": {
        "id": "km65dZuKpgTI"
      },
      "execution_count": null,
      "outputs": []
    },
    {
      "cell_type": "code",
      "source": [],
      "metadata": {
        "id": "gLNwgSFRpgPp"
      },
      "execution_count": null,
      "outputs": []
    },
    {
      "cell_type": "code",
      "source": [],
      "metadata": {
        "id": "RLL_22KjpgMB"
      },
      "execution_count": null,
      "outputs": []
    },
    {
      "cell_type": "code",
      "source": [],
      "metadata": {
        "id": "HfXg9FrMpgIx"
      },
      "execution_count": null,
      "outputs": []
    },
    {
      "cell_type": "code",
      "source": [],
      "metadata": {
        "id": "Xiq0F6kMpgFC"
      },
      "execution_count": null,
      "outputs": []
    },
    {
      "cell_type": "code",
      "execution_count": null,
      "metadata": {
        "id": "JLp02h6tpKUc"
      },
      "outputs": [],
      "source": []
    }
  ]
}